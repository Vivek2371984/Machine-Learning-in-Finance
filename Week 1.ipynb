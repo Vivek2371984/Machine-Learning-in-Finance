{
 "cells": [
  {
   "cell_type": "code",
   "execution_count": 20,
   "id": "5c178ed8-a5c1-44e3-9279-4e05b188d0d6",
   "metadata": {},
   "outputs": [
    {
     "name": "stdin",
     "output_type": "stream",
     "text": [
      "enter your student id: 2371985\n"
     ]
    },
    {
     "name": "stdout",
     "output_type": "stream",
     "text": [
      "[[ 0  1  2  3  4  5  6  7  8  9 10 11 12 13 14 15 16 17 18 19 20 21 22 23\n",
      "  24 25 26 27 28 29 30 31 32 33 34 35 36 37 38 39 40 41 42 43 44 45 46 47\n",
      "  48 49 50 51 52 53 54 55 56 57 58 59 60 61 62 63 64 65 66 67 68 69 70 71\n",
      "  72 73 74 75 76 77 78 79 80 81 82 83 84]]\n",
      "(1, 85)\n"
     ]
    }
   ],
   "source": [
    "import numpy as np\n",
    "p=int(input(\"enter your student id:\"))\n",
    "x=p%100\n",
    "if(x>10):\n",
    "    a=np.arange(x)\n",
    "    a=a.reshape(1,-1)\n",
    "else:\n",
    "    x=x+100\n",
    "    a=np.arange(x)\n",
    "    a=a.reshape(1,-1)\n",
    "print(a)\n",
    "print(a.shape)\n",
    "\n",
    "\n"
   ]
  },
  {
   "cell_type": "code",
   "execution_count": 23,
   "id": "f7f64855-43a2-4469-b67d-dca937880f36",
   "metadata": {},
   "outputs": [
    {
     "name": "stdin",
     "output_type": "stream",
     "text": [
      "enter your student id: 2371908\n"
     ]
    },
    {
     "name": "stdout",
     "output_type": "stream",
     "text": [
      "[[  0   1   2   3   4   5   6   7   8   9  10  11  12  13  14  15  16  17\n",
      "   18  19  20  21  22  23  24  25  26  27  28  29  30  31  32  33  34  35\n",
      "   36  37  38  39  40  41  42  43  44  45  46  47  48  49  50  51  52  53\n",
      "   54  55  56  57  58  59  60  61  62  63  64  65  66  67  68  69  70  71\n",
      "   72  73  74  75  76  77  78  79  80  81  82  83  84  85  86  87  88  89\n",
      "   90  91  92  93  94  95  96  97  98  99 100 101 102 103 104 105 106 107]]\n",
      "(1, 108)\n"
     ]
    }
   ],
   "source": [
    "import numpy as np\n",
    "p=int(input(\"enter your student id:\"))\n",
    "x=p%100\n",
    "if(x>10):\n",
    "    a=np.arange(x)\n",
    "    a=a.reshape(1,-1)\n",
    "else:\n",
    "    x=x+100\n",
    "    a=np.arange(x)\n",
    "    a=a.reshape(1,-1)\n",
    "print(a)\n",
    "print(a.shape)"
   ]
  }
 ],
 "metadata": {
  "kernelspec": {
   "display_name": "Python 3 (ipykernel)",
   "language": "python",
   "name": "python3"
  },
  "language_info": {
   "codemirror_mode": {
    "name": "ipython",
    "version": 3
   },
   "file_extension": ".py",
   "mimetype": "text/x-python",
   "name": "python",
   "nbconvert_exporter": "python",
   "pygments_lexer": "ipython3",
   "version": "3.12.4"
  }
 },
 "nbformat": 4,
 "nbformat_minor": 5
}
